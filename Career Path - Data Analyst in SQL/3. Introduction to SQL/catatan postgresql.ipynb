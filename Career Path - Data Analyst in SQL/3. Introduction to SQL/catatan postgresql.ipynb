{
 "cells": [
  {
   "cell_type": "markdown",
   "id": "a4c1b23a-89bf-4863-b2c8-edd112c23b09",
   "metadata": {},
   "source": [
    "1. DISTINCT fungsinya untuk memunculkan nilai unik. misalnya ada value yang berisi (buku, buku, buku, tinta, tinta, pulpen). ketika menggunakan DISTINCT maka outputnya hanya buku, tinta, pulpen\n",
    "2. LIMIT fungsinya untuk menentukan berapa row/baris yang akan ditampilkan didalam table. fungsi LIMIT sama seperti fungsi head di python\n",
    "3. COUNT fungsinya menjumlahkan seluruh value yang ada di suatu kolom. Jika ada null value maka tidak di hitung. contohnya ada suatu kolom mempunyai panjang baris kebawah 7500 tetapi ada null valuenya 250. Maka COUNT hanya mengeluarkan hasil 7250\n",
    "4. WHERE fungsinya untuk menyeleksi nilai tertentu. Misalnya ada kolom nilai ulangan yang valuenya 10-100. Jika kita ingin mengeluarkan nilai yang hanya diatas KKM yaitu 75-100 maka solusinya dengan menggunakan klausa WHERE.\n",
    "5. BETWEEN\n",
    "6. AND\n",
    "7. OR\n",
    "8. LIKE\n",
    "9. NOT LIKE\n",
    "10. IS NULL\n",
    "11. SUM\n",
    "12. AVG\n",
    "13. MAX\n",
    "14. MIN\n",
    "15. ROUND\n",
    "16. ORDER BY\n",
    "17. HAVING\n",
    "18. INNER JOIN\n",
    "19. USING\n",
    "20. INTERSECT\n",
    "21. EXCEPT"
   ]
  },
  {
   "cell_type": "code",
   "execution_count": null,
   "id": "0e172167-20d3-48cf-aeb6-760ca6f50645",
   "metadata": {},
   "outputs": [],
   "source": []
  }
 ],
 "metadata": {
  "kernelspec": {
   "display_name": "Python 3 (ipykernel)",
   "language": "python",
   "name": "python3"
  },
  "language_info": {
   "codemirror_mode": {
    "name": "ipython",
    "version": 3
   },
   "file_extension": ".py",
   "mimetype": "text/x-python",
   "name": "python",
   "nbconvert_exporter": "python",
   "pygments_lexer": "ipython3",
   "version": "3.9.7"
  }
 },
 "nbformat": 4,
 "nbformat_minor": 5
}
