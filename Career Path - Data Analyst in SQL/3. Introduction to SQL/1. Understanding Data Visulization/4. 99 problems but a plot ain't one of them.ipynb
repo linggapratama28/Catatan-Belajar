{
 "cells": [
  {
   "cell_type": "markdown",
   "id": "3416d0fb-f026-4273-8cd3-1045b3292309",
   "metadata": {},
   "source": [
    "# 1. Pie plots\n",
    "### Exercise\n",
    "Pie plots (sometimes called pie charts) are extremely popular, but often difficult to interpret. They are just bar plots converted into polar coordinates, and humans are generally worse at perceiving angles accurately compared to lengths.\n",
    "\n",
    "Following on from the scotch whisky dataset in the last chapter, here's another dataset from the Health Survey for England, this time on alcohol consumption in English men aged 16 or more. Pie segments and bar heights represent percentages of responders.\n",
    "\n",
    "Look at the pie plot and the bar plot and determine which statement is true.\n",
    "\n",
    "### Instruction\n",
    "- A. Only the 75+ age group had more non-drinkers than people drinking 14 to 35 units per week.\n",
    "- B. Three age groups had more than 30% of people drinking 14 to 35 units per week.\n",
    "- C. All age groups had less than 20% non-drinkers.\n",
    "- D. All age groups had at least 50% of people drinking up to 14 units per week.\n",
    "\n",
    "Answer: D"
   ]
  },
  {
   "cell_type": "markdown",
   "id": "466997e7-59cc-4b68-991e-147e57ff9e48",
   "metadata": {},
   "source": [
    "# 2. Rose plots\n",
    "### Exercise\n",
    "One good use case for polar coordinates is when the data is naturally circular, for example, when it is a compass direction. If you plot a histogram with polar coordinates, you get a rose plot.\n",
    "\n",
    "Here you can see a plot of wind direction data from a meteorological mast. Knowing the predominant wind direction is important for weather modeling and for determining where to site wind turbines. Wind measurements were taken at 10 minute intervals over an eight month period.\n",
    "\n",
    "Look at the histogram and rose plot, then determine which statement is true.\n",
    "\n",
    "Data Source: https://www.rdocumentation.org/packages/bReeze/versions/0.4-3/topics/winddata\n",
    "\n",
    "### Instruction\n",
    "- A. The distribution of the wind directions has three peaks.\n",
    "- B. The predominant wind directions were N and SW.\n",
    "- C. The distribution of the wind directions has one peak.\n",
    "- D. The predominant wind directions were E and NW.\n",
    "\n",
    "Answer: B"
   ]
  },
  {
   "cell_type": "markdown",
   "id": "13d13015-e039-4a79-b408-73fee31d01be",
   "metadata": {},
   "source": [
    "# 3. Bar plot axes\n",
    "### Exercise\n",
    "When we look at a bar plot, we use the relative lengths of each bar to help interpret what is happening. If you don't include zero on the axis used for bar lengths, then the relative lengths of bars are distorted, and it is easy to be misled.\n",
    "\n",
    "Here is a bar plot of another question from the Health Survey for England, this time about people with asthma. (\"Not asthmatic\" means no asthma symptoms were reported, and no medication was taken for asthma in the previous 12 months.)\n",
    "\n",
    "Compare version of the plot with each y-axis, and determine which statement is true.\n",
    "\n",
    "### Instruction\n",
    "- A. The percentage of asthmatics is less than 15% for every age group.\n",
    "- B. 16-24 years olds have more than twice the percentage of non-asthmatics than 45-54 year olds.\n",
    "- C. The majority of people aged 35-74 are asthmatic.\n",
    "- D. The percentage of asthmatics ranges from about 40% to about 80%, depending upon the age group.\n",
    "\n",
    "Answer: A"
   ]
  },
  {
   "cell_type": "markdown",
   "id": "fea865e9-e5dc-49d6-8abb-402b99966617",
   "metadata": {},
   "source": [
    "# 4. Dual axes\n",
    "### Exercise\n",
    "One popular but terrible idea is to draw a scatter plot or line plot with two different y-axes. This typically happens when you have two metrics with different units, and different scales that you want to plot against a common x-axis. The problem is that by changing the relationship between the two axes, you can tell almost any story that you want with the data.\n",
    "\n",
    "Here you can see the stock prices of Microsoft (MSFT) and Amazon (AMZN) from 2017 to 2020. When you saw these in Chapter 3, each price had been adjusted to relative to the maximum for that company. That way each line was comparable. Here, the prices have been adjusted for dividends and splits but they have not been scaled relative to their maxima.\n",
    "\n",
    "Adjust the vertical position and steepness of the slope for the AMZN line, then determine which statement is true.\n",
    "\n",
    "Instructions\n",
    "- A. MSFT and AMZN are strongly positively correlated.\n",
    "- B. MSFT and AMZN are strongly negatively correlated.\n",
    "- C. MSFT and AMZN have no correlation.\n",
    "- D. You can't make a conclusion about the correlation of MSFT and AMZN from this plot.\n",
    "\n",
    "Answer: D"
   ]
  },
  {
   "cell_type": "markdown",
   "id": "c07efa86-3203-4dbf-afd8-2d910fc78615",
   "metadata": {},
   "source": [
    "# 5. Chartjunk\n",
    "### Exercise\n",
    "Chartjunk is anything in a plot that distracts from getting insight. That is, removing it would make the plot easier to understand.\n",
    "\n",
    "Here's the scatter plot of the greatest hip-hop songs from Chapter 2, this time with added bling.\n",
    "\n",
    "![](scatter-hiphop-bling.png)\n",
    "\n",
    "Which element of the plot is not chartjunk?\n",
    "\n",
    "### Answer the question\n",
    "### Possible Answers\n",
    "\n",
    "- A. Bold, italic text\n",
    "- B. Chunky grid lines\n",
    "- C. Dollar signs for points\n",
    "- D. Golden panel background\n",
    "- E. Axis labels\n",
    "\n",
    "Answer: E"
   ]
  },
  {
   "cell_type": "code",
   "execution_count": null,
   "id": "c40ffa78-4e51-4b0c-a4cc-ec8260b62c8f",
   "metadata": {},
   "outputs": [],
   "source": []
  }
 ],
 "metadata": {
  "kernelspec": {
   "display_name": "Python 3 (ipykernel)",
   "language": "python",
   "name": "python3"
  },
  "language_info": {
   "codemirror_mode": {
    "name": "ipython",
    "version": 3
   },
   "file_extension": ".py",
   "mimetype": "text/x-python",
   "name": "python",
   "nbconvert_exporter": "python",
   "pygments_lexer": "ipython3",
   "version": "3.9.7"
  }
 },
 "nbformat": 4,
 "nbformat_minor": 5
}
